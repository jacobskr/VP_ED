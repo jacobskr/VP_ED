{
 "cells": [
  {
   "cell_type": "code",
   "execution_count": 2,
   "metadata": {},
   "outputs": [],
   "source": [
    "import pandas as pd\n",
    "import numpy as np\n",
    "import matplotlib.pyplot as plt\n",
    "import seaborn as sns\n",
    "sns.set_style('whitegrid')\n",
    "%matplotlib inline"
   ]
  },
  {
   "cell_type": "code",
   "execution_count": 3,
   "metadata": {},
   "outputs": [],
   "source": [
    "import os\n",
    "path = os.getcwd() + '/Data/pydata.csv'\n",
    "df = pd.read_csv(path)"
   ]
  },
  {
   "cell_type": "code",
   "execution_count": 4,
   "metadata": {},
   "outputs": [
    {
     "data": {
      "text/html": [
       "<div>\n",
       "<style scoped>\n",
       "    .dataframe tbody tr th:only-of-type {\n",
       "        vertical-align: middle;\n",
       "    }\n",
       "\n",
       "    .dataframe tbody tr th {\n",
       "        vertical-align: top;\n",
       "    }\n",
       "\n",
       "    .dataframe thead th {\n",
       "        text-align: right;\n",
       "    }\n",
       "</style>\n",
       "<table border=\"1\" class=\"dataframe\">\n",
       "  <thead>\n",
       "    <tr style=\"text-align: right;\">\n",
       "      <th></th>\n",
       "      <th>CLAIM_NUM</th>\n",
       "      <th>NEXT_SERVICE</th>\n",
       "      <th>MEMBER_SEX</th>\n",
       "      <th>AGE_GROUP</th>\n",
       "      <th>CODE_1</th>\n",
       "      <th>CODE_2</th>\n",
       "      <th>CODE_3</th>\n",
       "      <th>CODE_4</th>\n",
       "      <th>CODE_5</th>\n",
       "      <th>CODE_6</th>\n",
       "      <th>CODE_7</th>\n",
       "      <th>Asthma</th>\n",
       "      <th>COPD</th>\n",
       "      <th>Diabetes</th>\n",
       "      <th>HeartFailure</th>\n",
       "      <th>Hypertension</th>\n",
       "      <th>Psychoses</th>\n",
       "      <th>MoodDisorder</th>\n",
       "    </tr>\n",
       "  </thead>\n",
       "  <tbody>\n",
       "    <tr>\n",
       "      <th>0</th>\n",
       "      <td>23005370</td>\n",
       "      <td>OTPT</td>\n",
       "      <td>M</td>\n",
       "      <td>PreSchool</td>\n",
       "      <td>654.0</td>\n",
       "      <td>NaN</td>\n",
       "      <td>NaN</td>\n",
       "      <td>NaN</td>\n",
       "      <td>NaN</td>\n",
       "      <td>NaN</td>\n",
       "      <td>NaN</td>\n",
       "      <td>NaN</td>\n",
       "      <td>NaN</td>\n",
       "      <td>NaN</td>\n",
       "      <td>NaN</td>\n",
       "      <td>NaN</td>\n",
       "      <td>NaN</td>\n",
       "      <td>NaN</td>\n",
       "    </tr>\n",
       "    <tr>\n",
       "      <th>1</th>\n",
       "      <td>23257313</td>\n",
       "      <td>OTPT</td>\n",
       "      <td>M</td>\n",
       "      <td>PreSchool</td>\n",
       "      <td>254.0</td>\n",
       "      <td>654.0</td>\n",
       "      <td>NaN</td>\n",
       "      <td>NaN</td>\n",
       "      <td>NaN</td>\n",
       "      <td>NaN</td>\n",
       "      <td>NaN</td>\n",
       "      <td>NaN</td>\n",
       "      <td>NaN</td>\n",
       "      <td>NaN</td>\n",
       "      <td>NaN</td>\n",
       "      <td>NaN</td>\n",
       "      <td>NaN</td>\n",
       "      <td>NaN</td>\n",
       "    </tr>\n",
       "    <tr>\n",
       "      <th>2</th>\n",
       "      <td>23027711</td>\n",
       "      <td>OTPT</td>\n",
       "      <td>M</td>\n",
       "      <td>PreSchool</td>\n",
       "      <td>136.0</td>\n",
       "      <td>NaN</td>\n",
       "      <td>NaN</td>\n",
       "      <td>NaN</td>\n",
       "      <td>NaN</td>\n",
       "      <td>NaN</td>\n",
       "      <td>NaN</td>\n",
       "      <td>NaN</td>\n",
       "      <td>NaN</td>\n",
       "      <td>NaN</td>\n",
       "      <td>NaN</td>\n",
       "      <td>NaN</td>\n",
       "      <td>NaN</td>\n",
       "      <td>NaN</td>\n",
       "    </tr>\n",
       "    <tr>\n",
       "      <th>3</th>\n",
       "      <td>23305598</td>\n",
       "      <td>OTPT</td>\n",
       "      <td>M</td>\n",
       "      <td>PreSchool</td>\n",
       "      <td>136.0</td>\n",
       "      <td>NaN</td>\n",
       "      <td>NaN</td>\n",
       "      <td>NaN</td>\n",
       "      <td>NaN</td>\n",
       "      <td>NaN</td>\n",
       "      <td>NaN</td>\n",
       "      <td>NaN</td>\n",
       "      <td>NaN</td>\n",
       "      <td>NaN</td>\n",
       "      <td>NaN</td>\n",
       "      <td>NaN</td>\n",
       "      <td>NaN</td>\n",
       "      <td>NaN</td>\n",
       "    </tr>\n",
       "    <tr>\n",
       "      <th>4</th>\n",
       "      <td>23112424</td>\n",
       "      <td>OTPT</td>\n",
       "      <td>M</td>\n",
       "      <td>PreSchool</td>\n",
       "      <td>136.0</td>\n",
       "      <td>NaN</td>\n",
       "      <td>NaN</td>\n",
       "      <td>NaN</td>\n",
       "      <td>NaN</td>\n",
       "      <td>NaN</td>\n",
       "      <td>NaN</td>\n",
       "      <td>NaN</td>\n",
       "      <td>NaN</td>\n",
       "      <td>NaN</td>\n",
       "      <td>NaN</td>\n",
       "      <td>NaN</td>\n",
       "      <td>NaN</td>\n",
       "      <td>NaN</td>\n",
       "    </tr>\n",
       "  </tbody>\n",
       "</table>\n",
       "</div>"
      ],
      "text/plain": [
       "   CLAIM_NUM NEXT_SERVICE MEMBER_SEX  AGE_GROUP  CODE_1  CODE_2  CODE_3  \\\n",
       "0   23005370         OTPT          M  PreSchool   654.0     NaN     NaN   \n",
       "1   23257313         OTPT          M  PreSchool   254.0   654.0     NaN   \n",
       "2   23027711         OTPT          M  PreSchool   136.0     NaN     NaN   \n",
       "3   23305598         OTPT          M  PreSchool   136.0     NaN     NaN   \n",
       "4   23112424         OTPT          M  PreSchool   136.0     NaN     NaN   \n",
       "\n",
       "   CODE_4  CODE_5  CODE_6  CODE_7  Asthma  COPD  Diabetes  HeartFailure  \\\n",
       "0     NaN     NaN     NaN     NaN     NaN   NaN       NaN           NaN   \n",
       "1     NaN     NaN     NaN     NaN     NaN   NaN       NaN           NaN   \n",
       "2     NaN     NaN     NaN     NaN     NaN   NaN       NaN           NaN   \n",
       "3     NaN     NaN     NaN     NaN     NaN   NaN       NaN           NaN   \n",
       "4     NaN     NaN     NaN     NaN     NaN   NaN       NaN           NaN   \n",
       "\n",
       "   Hypertension  Psychoses  MoodDisorder  \n",
       "0           NaN        NaN           NaN  \n",
       "1           NaN        NaN           NaN  \n",
       "2           NaN        NaN           NaN  \n",
       "3           NaN        NaN           NaN  \n",
       "4           NaN        NaN           NaN  "
      ]
     },
     "execution_count": 4,
     "metadata": {},
     "output_type": "execute_result"
    }
   ],
   "source": [
    "df.head()"
   ]
  },
  {
   "cell_type": "code",
   "execution_count": 5,
   "metadata": {},
   "outputs": [
    {
     "data": {
      "text/plain": [
       "OTPT    12142549\n",
       "ED        925539\n",
       "INPT      138024\n",
       "Name: NEXT_SERVICE, dtype: int64"
      ]
     },
     "execution_count": 5,
     "metadata": {},
     "output_type": "execute_result"
    }
   ],
   "source": [
    "df.NEXT_SERVICE.value_counts()"
   ]
  },
  {
   "cell_type": "code",
   "execution_count": 6,
   "metadata": {},
   "outputs": [],
   "source": [
    "y = df.NEXT_SERVICE"
   ]
  },
  {
   "cell_type": "code",
   "execution_count": 7,
   "metadata": {},
   "outputs": [
    {
     "data": {
      "text/plain": [
       "Index(['MEMBER_SEX', 'AGE_GROUP', 'CODE_1', 'CODE_2', 'CODE_3', 'CODE_4',\n",
       "       'CODE_5', 'CODE_6', 'CODE_7', 'Asthma', 'COPD', 'Diabetes',\n",
       "       'HeartFailure', 'Hypertension', 'Psychoses', 'MoodDisorder'],\n",
       "      dtype='object')"
      ]
     },
     "execution_count": 7,
     "metadata": {},
     "output_type": "execute_result"
    }
   ],
   "source": [
    "X = df.iloc[:,2:]\n",
    "X.columns"
   ]
  },
  {
   "cell_type": "markdown",
   "metadata": {},
   "source": [
    "**Binarize y**"
   ]
  },
  {
   "cell_type": "code",
   "execution_count": 8,
   "metadata": {},
   "outputs": [
    {
     "name": "stderr",
     "output_type": "stream",
     "text": [
      "C:\\Users\\User\\Anaconda3\\lib\\site-packages\\ipykernel_launcher.py:1: SettingWithCopyWarning: \n",
      "A value is trying to be set on a copy of a slice from a DataFrame\n",
      "\n",
      "See the caveats in the documentation: http://pandas.pydata.org/pandas-docs/stable/indexing.html#indexing-view-versus-copy\n",
      "  \"\"\"Entry point for launching an IPython kernel.\n",
      "C:\\Users\\User\\Anaconda3\\lib\\site-packages\\ipykernel_launcher.py:2: SettingWithCopyWarning: \n",
      "A value is trying to be set on a copy of a slice from a DataFrame\n",
      "\n",
      "See the caveats in the documentation: http://pandas.pydata.org/pandas-docs/stable/indexing.html#indexing-view-versus-copy\n",
      "  \n"
     ]
    }
   ],
   "source": [
    "y[y=='OTPT'] = 'NOT_ED'\n",
    "y[y=='INPT'] = 'NOT_ED'"
   ]
  },
  {
   "cell_type": "code",
   "execution_count": 9,
   "metadata": {},
   "outputs": [],
   "source": [
    "from sklearn import preprocessing\n",
    "le = preprocessing.LabelBinarizer()"
   ]
  },
  {
   "cell_type": "code",
   "execution_count": 10,
   "metadata": {},
   "outputs": [
    {
     "data": {
      "text/plain": [
       "array([[1],\n",
       "       [1],\n",
       "       [1],\n",
       "       ...,\n",
       "       [1],\n",
       "       [1],\n",
       "       [1]])"
      ]
     },
     "execution_count": 10,
     "metadata": {},
     "output_type": "execute_result"
    }
   ],
   "source": [
    "y = le.fit_transform(y)\n",
    "y"
   ]
  },
  {
   "cell_type": "markdown",
   "metadata": {},
   "source": [
    "**Change NAs in X**"
   ]
  },
  {
   "cell_type": "code",
   "execution_count": 11,
   "metadata": {},
   "outputs": [],
   "source": [
    "X = X.fillna(0)"
   ]
  },
  {
   "cell_type": "markdown",
   "metadata": {},
   "source": [
    "**Tidy Up/Factorize X**"
   ]
  },
  {
   "cell_type": "code",
   "execution_count": 12,
   "metadata": {},
   "outputs": [
    {
     "name": "stdout",
     "output_type": "stream",
     "text": [
      "<class 'pandas.core.frame.DataFrame'>\n",
      "RangeIndex: 13206112 entries, 0 to 13206111\n",
      "Data columns (total 16 columns):\n",
      "MEMBER_SEX      object\n",
      "AGE_GROUP       object\n",
      "CODE_1          float64\n",
      "CODE_2          float64\n",
      "CODE_3          float64\n",
      "CODE_4          float64\n",
      "CODE_5          float64\n",
      "CODE_6          float64\n",
      "CODE_7          float64\n",
      "Asthma          float64\n",
      "COPD            float64\n",
      "Diabetes        float64\n",
      "HeartFailure    float64\n",
      "Hypertension    float64\n",
      "Psychoses       float64\n",
      "MoodDisorder    float64\n",
      "dtypes: float64(14), object(2)\n",
      "memory usage: 1.6+ GB\n"
     ]
    }
   ],
   "source": [
    "X.info()"
   ]
  },
  {
   "cell_type": "code",
   "execution_count": 13,
   "metadata": {},
   "outputs": [],
   "source": [
    "X = X.astype('category')"
   ]
  },
  {
   "cell_type": "code",
   "execution_count": 14,
   "metadata": {},
   "outputs": [],
   "source": [
    "del df\n",
    "#X.pop('CODE_6');\n",
    "#X.pop('CODE_7');"
   ]
  },
  {
   "cell_type": "code",
   "execution_count": 15,
   "metadata": {},
   "outputs": [
    {
     "name": "stdout",
     "output_type": "stream",
     "text": [
      "<class 'pandas.core.frame.DataFrame'>\n",
      "RangeIndex: 13206112 entries, 0 to 13206111\n",
      "Data columns (total 16 columns):\n",
      "MEMBER_SEX      category\n",
      "AGE_GROUP       category\n",
      "CODE_1          category\n",
      "CODE_2          category\n",
      "CODE_3          category\n",
      "CODE_4          category\n",
      "CODE_5          category\n",
      "CODE_6          category\n",
      "CODE_7          category\n",
      "Asthma          category\n",
      "COPD            category\n",
      "Diabetes        category\n",
      "HeartFailure    category\n",
      "Hypertension    category\n",
      "Psychoses       category\n",
      "MoodDisorder    category\n",
      "dtypes: category(16)\n",
      "memory usage: 289.8 MB\n"
     ]
    }
   ],
   "source": [
    "X.info()"
   ]
  },
  {
   "cell_type": "code",
   "execution_count": 16,
   "metadata": {},
   "outputs": [
    {
     "data": {
      "text/plain": [
       "([PreSchool, Child, Baby, Young Adult, Teen, Middle Age, Adult, Senior, Very Senior]\n",
       " Categories (9, object): [PreSchool, Child, Baby, Young Adult, ..., Middle Age, Adult, Senior, Very Senior],\n",
       " [M, F]\n",
       " Categories (2, object): [M, F])"
      ]
     },
     "execution_count": 16,
     "metadata": {},
     "output_type": "execute_result"
    }
   ],
   "source": [
    "X.AGE_GROUP.unique(), X.MEMBER_SEX.unique()"
   ]
  },
  {
   "cell_type": "code",
   "execution_count": 17,
   "metadata": {},
   "outputs": [],
   "source": [
    "from sklearn.preprocessing import LabelEncoder\n",
    "le = preprocessing.LabelEncoder()\n",
    "le.fit(['PreSchool', 'Child', 'Baby', 'Young Adult', 'Teen', 'Middle Age', 'Adult', 'Senior', 'Very Senior'])\n",
    "X.AGE_GROUP = le.transform(X.AGE_GROUP)"
   ]
  },
  {
   "cell_type": "code",
   "execution_count": 18,
   "metadata": {},
   "outputs": [],
   "source": [
    "le.fit(['M', 'F'])\n",
    "X.MEMBER_SEX = le.transform(X.MEMBER_SEX)"
   ]
  },
  {
   "cell_type": "code",
   "execution_count": 19,
   "metadata": {},
   "outputs": [
    {
     "data": {
      "text/plain": [
       "(0    4\n",
       " 1    4\n",
       " 2    4\n",
       " 3    4\n",
       " 4    4\n",
       " 5    4\n",
       " 6    4\n",
       " 7    4\n",
       " 8    4\n",
       " 9    4\n",
       " Name: AGE_GROUP, dtype: int64, 0    1\n",
       " 1    1\n",
       " 2    1\n",
       " 3    1\n",
       " 4    1\n",
       " 5    1\n",
       " 6    1\n",
       " 7    1\n",
       " 8    1\n",
       " 9    1\n",
       " Name: MEMBER_SEX, dtype: int64)"
      ]
     },
     "execution_count": 19,
     "metadata": {},
     "output_type": "execute_result"
    }
   ],
   "source": [
    "X.AGE_GROUP.head(10), X.MEMBER_SEX.head(10)"
   ]
  },
  {
   "cell_type": "code",
   "execution_count": 20,
   "metadata": {},
   "outputs": [],
   "source": [
    "#ind_AGE_GROUP = pd.get_dummies(X['AGE_GROUP'], prefix='AGE_GROUP')\n",
    "#ind_CODE_1 = pd.get_dummies(X['CODE_1'], prefix='CODE_1')\n",
    "#ind_CODE_2 = pd.get_dummies(X['CODE_2'], prefix='CODE_2')\n",
    "#ind_CODE_3 = pd.get_dummies(X['CODE_3'], prefix='CODE_3')\n",
    "#ind_CODE_4 = pd.get_dummies(X['CODE_4'], prefix='CODE_4')\n",
    "#ind_CODE_5 = pd.get_dummies(X['CODE_5'], prefix='CODE_5')"
   ]
  },
  {
   "cell_type": "code",
   "execution_count": 21,
   "metadata": {},
   "outputs": [],
   "source": [
    "#X = pd.concat([X.MEMBER_SEX, ind_AGE_GROUP, ind_CODE_1, ind_CODE_2, ind_CODE_3, ind_CODE_4, ind_CODE_5,\n",
    "#               X.Asthma, X.COPD, X.Diabetes, X.HeartFailure, X.Hypertension, X.Psychoses, X.MoodDisorder], axis=1)"
   ]
  },
  {
   "cell_type": "markdown",
   "metadata": {},
   "source": [
    "## Train Test Split"
   ]
  },
  {
   "cell_type": "code",
   "execution_count": 22,
   "metadata": {},
   "outputs": [],
   "source": [
    "from sklearn.model_selection import train_test_split"
   ]
  },
  {
   "cell_type": "code",
   "execution_count": 23,
   "metadata": {},
   "outputs": [],
   "source": [
    "X_train, X_test, y_train, y_test = train_test_split(X, y, test_size=.2)"
   ]
  },
  {
   "cell_type": "markdown",
   "metadata": {},
   "source": [
    "## Ensemble Models\n",
    "\n",
    "### Random Forest\n",
    "\n",
    "**Base Model**"
   ]
  },
  {
   "cell_type": "code",
   "execution_count": 24,
   "metadata": {},
   "outputs": [],
   "source": [
    "from sklearn.ensemble import RandomForestClassifier"
   ]
  },
  {
   "cell_type": "code",
   "execution_count": 25,
   "metadata": {},
   "outputs": [
    {
     "data": {
      "text/plain": [
       "(array([0, 1]), array([  925539, 12280573], dtype=int64))"
      ]
     },
     "execution_count": 25,
     "metadata": {},
     "output_type": "execute_result"
    }
   ],
   "source": [
    "np.unique(y, return_counts=True)"
   ]
  },
  {
   "cell_type": "code",
   "execution_count": 26,
   "metadata": {},
   "outputs": [
    {
     "data": {
      "text/plain": [
       "(0.07008413982858847, 0.9299158601714116)"
      ]
     },
     "execution_count": 26,
     "metadata": {},
     "output_type": "execute_result"
    }
   ],
   "source": [
    "counts = np.unique(y, return_counts=True)[1]\n",
    "tot = counts[0] + counts[1]\n",
    "prop0 = counts[0] / tot\n",
    "prop1 = counts[1] / tot\n",
    "prop0, prop1"
   ]
  },
  {
   "cell_type": "code",
   "execution_count": 27,
   "metadata": {},
   "outputs": [],
   "source": [
    "forest_clf = RandomForestClassifier(random_state=42, class_weight={0: prop0, 1: prop1}, n_jobs=-1)"
   ]
  },
  {
   "cell_type": "code",
   "execution_count": 28,
   "metadata": {},
   "outputs": [
    {
     "data": {
      "text/plain": [
       "((10564889, 16), (10564889, 1))"
      ]
     },
     "execution_count": 28,
     "metadata": {},
     "output_type": "execute_result"
    }
   ],
   "source": [
    "X_train.shape, y_train.shape"
   ]
  },
  {
   "cell_type": "code",
   "execution_count": 31,
   "metadata": {},
   "outputs": [
    {
     "data": {
      "text/plain": [
       "RandomForestClassifier(bootstrap=True,\n",
       "            class_weight={0: 0.07008413982858847, 1: 0.9299158601714116},\n",
       "            criterion='gini', max_depth=None, max_features='auto',\n",
       "            max_leaf_nodes=None, min_impurity_decrease=0.0,\n",
       "            min_impurity_split=None, min_samples_leaf=1,\n",
       "            min_samples_split=2, min_weight_fraction_leaf=0.0,\n",
       "            n_estimators=10, n_jobs=-1, oob_score=False, random_state=42,\n",
       "            verbose=0, warm_start=False)"
      ]
     },
     "execution_count": 31,
     "metadata": {},
     "output_type": "execute_result"
    }
   ],
   "source": [
    "forest_clf.fit(X_train, y_train.ravel())"
   ]
  },
  {
   "cell_type": "code",
   "execution_count": 33,
   "metadata": {},
   "outputs": [],
   "source": [
    "from sklearn.model_selection import cross_val_score, cross_val_predict\n",
    "from sklearn.metrics import accuracy_score, classification_report, confusion_matrix\n",
    "\n",
    "def print_score(clf, X_train, y_train, X_test, y_test, train=True):\n",
    "    '''\n",
    "    Print the accuracy score, classification report, and confusion matrix of classifier.\n",
    "    '''\n",
    "    if train:\n",
    "        '''\n",
    "        Training Performance\n",
    "        '''\n",
    "        print(\"Train Result:\\n\")\n",
    "        print(\"Accuracy Score: {0:.4f}\\n\".format(accuracy_score(y_train, clf.predict(X_train))))\n",
    "        print(\"Classification Report:\\n {} \\n\".format(classification_report(y_train, clf.predict(X_train))))\n",
    "        print(\"Confusion Matrix:  \\n {} \\n\".format(confusion_matrix(y_train, clf.predict(X_train))))\n",
    "        \n",
    "        res = cross_val_score(clf, X_train, y_train, cv=5, scoring='accuracy', n_jobs=-1)\n",
    "        print(\"Average Accuracy: \\t {0:.4f}\".format(np.mean(res)))\n",
    "        print(\"Accuracy SD \\t\\t {0:.4f}\".format(np.std(res)))\n",
    "        \n",
    "    elif train==False:\n",
    "        '''\n",
    "        Test Performance\n",
    "        '''\n",
    "        print(\"Test Result:\\n\")\n",
    "        print(\"Accuracy Score: {0:.4f}\\n\".format(accuracy_score(y_test, clf.predict(X_test))))\n",
    "        print(\"Classification Report:\\n {} \\n\".format(classification_report(y_test, clf.predict(X_test))))\n",
    "        print(\"Confusion Matrix:  \\n {} \\n\".format(confusion_matrix(y_test, clf.predict(X_test))))"
   ]
  },
  {
   "cell_type": "code",
   "execution_count": 34,
   "metadata": {
    "scrolled": true
   },
   "outputs": [
    {
     "name": "stdout",
     "output_type": "stream",
     "text": [
      "Train Result:\n",
      "\n",
      "Accuracy Score: 0.9452\n",
      "\n",
      "Classification Report:\n",
      "              precision    recall  f1-score   support\n",
      "\n",
      "          0       0.98      0.22      0.36    739929\n",
      "          1       0.94      1.00      0.97   9824960\n",
      "\n",
      "avg / total       0.95      0.95      0.93  10564889\n",
      " \n",
      "\n",
      "Confusion Matrix:  \n",
      " [[ 164386  575543]\n",
      " [   3672 9821288]] \n",
      "\n",
      "Average Accuracy: \t 0.9251\n",
      "Accuracy SD \t\t 0.0000\n"
     ]
    }
   ],
   "source": [
    "print_score(forest_clf, X_train, y_train.ravel(), X_test, y_test.ravel(), train=True)"
   ]
  },
  {
   "cell_type": "code",
   "execution_count": 35,
   "metadata": {},
   "outputs": [
    {
     "name": "stdout",
     "output_type": "stream",
     "text": [
      "Test Result:\n",
      "\n",
      "Accuracy Score: 0.9250\n",
      "\n",
      "Classification Report:\n",
      "              precision    recall  f1-score   support\n",
      "\n",
      "          0       0.18      0.02      0.04    185610\n",
      "          1       0.93      0.99      0.96   2455613\n",
      "\n",
      "avg / total       0.88      0.92      0.90   2641223\n",
      " \n",
      "\n",
      "Confusion Matrix:  \n",
      " [[   3675  181935]\n",
      " [  16250 2439363]] \n",
      "\n"
     ]
    }
   ],
   "source": [
    "print_score(forest_clf, X_train, y_train.ravel(), X_test, y_test.ravel(), train=False)"
   ]
  },
  {
   "cell_type": "code",
   "execution_count": null,
   "metadata": {},
   "outputs": [],
   "source": []
  },
  {
   "cell_type": "markdown",
   "metadata": {},
   "source": [
    "## XGBoost\n",
    "\n",
    "NEED TO CONVERT TO DUMMY VARIABLES (BOOL) FOR THIS TO WORK"
   ]
  },
  {
   "cell_type": "code",
   "execution_count": 38,
   "metadata": {},
   "outputs": [],
   "source": [
    "import xgboost as xgb"
   ]
  },
  {
   "cell_type": "code",
   "execution_count": 40,
   "metadata": {},
   "outputs": [],
   "source": [
    "xgb_clf = xgb.XGBClassifier(max_depth=5, n_estimators=500, learning_rate=0.2)"
   ]
  },
  {
   "cell_type": "code",
   "execution_count": 42,
   "metadata": {},
   "outputs": [
    {
     "name": "stderr",
     "output_type": "stream",
     "text": [
      "C:\\Users\\User\\Anaconda3\\lib\\site-packages\\sklearn\\preprocessing\\label.py:95: DataConversionWarning: A column-vector y was passed when a 1d array was expected. Please change the shape of y to (n_samples, ), for example using ravel().\n",
      "  y = column_or_1d(y, warn=True)\n",
      "C:\\Users\\User\\Anaconda3\\lib\\site-packages\\sklearn\\preprocessing\\label.py:128: DataConversionWarning: A column-vector y was passed when a 1d array was expected. Please change the shape of y to (n_samples, ), for example using ravel().\n",
      "  y = column_or_1d(y, warn=True)\n"
     ]
    },
    {
     "ename": "ValueError",
     "evalue": "DataFrame.dtypes for data must be int, float or bool.\n                Did not expect the data types in fields CODE_1, CODE_2, CODE_3, CODE_4, CODE_5, CODE_6, CODE_7, Asthma, COPD, Diabetes, HeartFailure, Hypertension, Psychoses, MoodDisorder",
     "output_type": "error",
     "traceback": [
      "\u001b[1;31m---------------------------------------------------------------------------\u001b[0m",
      "\u001b[1;31mValueError\u001b[0m                                Traceback (most recent call last)",
      "\u001b[1;32m<ipython-input-42-56b494b461db>\u001b[0m in \u001b[0;36m<module>\u001b[1;34m()\u001b[0m\n\u001b[1;32m----> 1\u001b[1;33m \u001b[0mxgb_clf\u001b[0m\u001b[1;33m.\u001b[0m\u001b[0mfit\u001b[0m\u001b[1;33m(\u001b[0m\u001b[0mX_train\u001b[0m\u001b[1;33m,\u001b[0m \u001b[0my_train\u001b[0m\u001b[1;33m)\u001b[0m\u001b[1;33m\u001b[0m\u001b[0m\n\u001b[0m",
      "\u001b[1;32m~\\Anaconda3\\lib\\site-packages\\xgboost\\sklearn.py\u001b[0m in \u001b[0;36mfit\u001b[1;34m(self, X, y, sample_weight, eval_set, eval_metric, early_stopping_rounds, verbose, xgb_model, sample_weight_eval_set, callbacks)\u001b[0m\n\u001b[0;32m    704\u001b[0m         \u001b[1;32melse\u001b[0m\u001b[1;33m:\u001b[0m\u001b[1;33m\u001b[0m\u001b[0m\n\u001b[0;32m    705\u001b[0m             train_dmatrix = DMatrix(X, label=training_labels,\n\u001b[1;32m--> 706\u001b[1;33m                                     missing=self.missing, nthread=self.n_jobs)\n\u001b[0m\u001b[0;32m    707\u001b[0m \u001b[1;33m\u001b[0m\u001b[0m\n\u001b[0;32m    708\u001b[0m         self._Booster = train(xgb_options, train_dmatrix, self.n_estimators,\n",
      "\u001b[1;32m~\\Anaconda3\\lib\\site-packages\\xgboost\\core.py\u001b[0m in \u001b[0;36m__init__\u001b[1;34m(self, data, label, missing, weight, silent, feature_names, feature_types, nthread)\u001b[0m\n\u001b[0;32m    382\u001b[0m         data, feature_names, feature_types = _maybe_pandas_data(data,\n\u001b[0;32m    383\u001b[0m                                                                 \u001b[0mfeature_names\u001b[0m\u001b[1;33m,\u001b[0m\u001b[1;33m\u001b[0m\u001b[0m\n\u001b[1;32m--> 384\u001b[1;33m                                                                 feature_types)\n\u001b[0m\u001b[0;32m    385\u001b[0m \u001b[1;33m\u001b[0m\u001b[0m\n\u001b[0;32m    386\u001b[0m         data, feature_names, feature_types = _maybe_dt_data(data,\n",
      "\u001b[1;32m~\\Anaconda3\\lib\\site-packages\\xgboost\\core.py\u001b[0m in \u001b[0;36m_maybe_pandas_data\u001b[1;34m(data, feature_names, feature_types)\u001b[0m\n\u001b[0;32m    239\u001b[0m         msg = \"\"\"DataFrame.dtypes for data must be int, float or bool.\n\u001b[0;32m    240\u001b[0m                 Did not expect the data types in fields \"\"\"\n\u001b[1;32m--> 241\u001b[1;33m         \u001b[1;32mraise\u001b[0m \u001b[0mValueError\u001b[0m\u001b[1;33m(\u001b[0m\u001b[0mmsg\u001b[0m \u001b[1;33m+\u001b[0m \u001b[1;34m', '\u001b[0m\u001b[1;33m.\u001b[0m\u001b[0mjoin\u001b[0m\u001b[1;33m(\u001b[0m\u001b[0mbad_fields\u001b[0m\u001b[1;33m)\u001b[0m\u001b[1;33m)\u001b[0m\u001b[1;33m\u001b[0m\u001b[0m\n\u001b[0m\u001b[0;32m    242\u001b[0m \u001b[1;33m\u001b[0m\u001b[0m\n\u001b[0;32m    243\u001b[0m     \u001b[1;32mif\u001b[0m \u001b[0mfeature_names\u001b[0m \u001b[1;32mis\u001b[0m \u001b[1;32mNone\u001b[0m\u001b[1;33m:\u001b[0m\u001b[1;33m\u001b[0m\u001b[0m\n",
      "\u001b[1;31mValueError\u001b[0m: DataFrame.dtypes for data must be int, float or bool.\n                Did not expect the data types in fields CODE_1, CODE_2, CODE_3, CODE_4, CODE_5, CODE_6, CODE_7, Asthma, COPD, Diabetes, HeartFailure, Hypertension, Psychoses, MoodDisorder"
     ]
    }
   ],
   "source": [
    "xgb_clf.fit(X_train, y_train)"
   ]
  },
  {
   "cell_type": "code",
   "execution_count": null,
   "metadata": {},
   "outputs": [],
   "source": []
  }
 ],
 "metadata": {
  "kernelspec": {
   "display_name": "Python 3",
   "language": "python",
   "name": "python3"
  },
  "language_info": {
   "codemirror_mode": {
    "name": "ipython",
    "version": 3
   },
   "file_extension": ".py",
   "mimetype": "text/x-python",
   "name": "python",
   "nbconvert_exporter": "python",
   "pygments_lexer": "ipython3",
   "version": "3.6.5"
  }
 },
 "nbformat": 4,
 "nbformat_minor": 2
}
